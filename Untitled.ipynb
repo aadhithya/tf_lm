{
 "cells": [
  {
   "cell_type": "code",
   "execution_count": 1,
   "metadata": {},
   "outputs": [],
   "source": [
    "import tensorflow as tf\n",
    "from tensorflow.contrib import rnn\n",
    "class RNNLanguageModel(object):\n",
    "    def __init__(self, vocabulary_size, embedding_size=64,num_layers=3,num_hidden=128):\n",
    "        self.embedding_size = embedding_size\n",
    "        self.num_layers = num_layers\n",
    "        self.num_hidden = num_hidden\n",
    "        self.x = tf.placeholder(tf.int32, [None, None])\n",
    "        self.keep_prob = tf.placeholder(tf.float32, [])\n",
    "        self.batch_size = tf.shape(self.x)[0]\n",
    "        self.lm_input = self.x[:, :-1]\n",
    "        self.lm_output = self.x[:, 1:]\n",
    "        self.seq_len = tf.reduce_sum(tf.sign(self.lm_input), 1)\n",
    "        with tf.name_scope(\"embedding\"):\n",
    "            init_embeddings = tf.random_uniform([vocabulary_size, self.embedding_size])\n",
    "            embeddings = tf.get_variable(\"embeddings\", initializer=init_embeddings)\n",
    "            lm_input_emb = tf.nn.embedding_lookup(embeddings, self.lm_input)\n",
    "        with tf.variable_scope(\"rnn\"):\n",
    "            def make_cell():\n",
    "                cell = rnn.LSTMCell(self.num_hidden)\n",
    "                cell = rnn.DropoutWrapper(cell, output_keep_prob=self.keep_prob)\n",
    "                return cell\n",
    "            cell = rnn.MultiRNNCell([make_cell() for _ in range(self.num_layers)])\n",
    "            rnn_outputs, _ = tf.nn.dynamic_rnn(cell, lm_input_emb, sequence_length=self.seq_len, dtype=tf.float32)\n",
    "        with tf.name_scope(\"output\"):\n",
    "            self.logits = tf.layers.dense(rnn_outputs, vocabulary_size)\n",
    "        with tf.name_scope(\"loss\"):\n",
    "            self.loss = tf.contrib.seq2seq.sequence_loss(\n",
    "            logits=self.logits,\n",
    "            targets=self.lm_output,\n",
    "            weights=tf.sequence_mask(self.seq_len, tf.shape(self.x)[1] - 1, dtype=tf.float32),\n",
    "            average_across_timesteps=True,\n",
    "            average_across_batch=True)\n",
    "            \n",
    "            self.train_step = tf.train.AdamOptimizer().minimize(self.loss)\n",
    "            \n",
    "    def train(self, batch_size, train_ip, train_op, lengths, epochs=10):\n",
    "        self.session = tf.Session()\n",
    "        s = self.session\n",
    "        with s.as_default():\n",
    "            s.run(tf.global_variables_initializer())\n",
    "            \n",
    "            for e in range(epochs):\n",
    "                step=0\n",
    "                print(f'Epoch {e+1}:')\n",
    "                for batch_ids in utils.get_batch_idx(train_ip,batch_size):\n",
    "                    _ = s.run([self.train_step], feed_dict={self.x:train_ip[batch_ids], self.lengths:lengths[batch_ids]})\n",
    "                    if step % 250 == 0:\n",
    "                        tr_loss = s.run([self.loss],feed_dict={self.inputs:train_ip[batch_ids], self.outputs:train_op[batch_ids], self.lengths:lengths[batch_ids]})\n",
    "                        #print(f'Iteration {step}, Training Loss: {tr_loss:.3f}')\n",
    "                        pass\n",
    "                    step += 1\n",
    "                    seed='love'\n",
    "                    print('Seed: ',seed)\n",
    "                    seq=seed+' '\n",
    "                    seed_num = np.array([word2idx['love']]+[0]*60)\n",
    "                    seed_num= seed_num[:,np.newaxis].T\n",
    "                    for ix in range(10):\n",
    "                        op = s.run([self.softmax], feed_dict={self.inputs:seed_num,self.lengths:[1]})\n",
    "                        seed_num = np.array([tf.argmax(op)]+[0]*60)\n",
    "                        seed_num = seed_num[:,np.newaxis].T\n",
    "                        seq += idx2word[seed_num]+' '\n",
    "                    print(seq)\n",
    "\n"
   ]
  },
  {
   "cell_type": "code",
   "execution_count": 2,
   "metadata": {},
   "outputs": [],
   "source": [
    "rnn = RNNLanguageModel(100)"
   ]
  },
  {
   "cell_type": "code",
   "execution_count": 5,
   "metadata": {},
   "outputs": [],
   "source": [
    "x = [3]+[5]*(100-95)"
   ]
  },
  {
   "cell_type": "code",
   "execution_count": 6,
   "metadata": {},
   "outputs": [
    {
     "data": {
      "text/plain": [
       "[3, 5, 5, 5, 5, 5]"
      ]
     },
     "execution_count": 6,
     "metadata": {},
     "output_type": "execute_result"
    }
   ],
   "source": [
    "x"
   ]
  },
  {
   "cell_type": "code",
   "execution_count": 2,
   "metadata": {},
   "outputs": [
    {
     "data": {
      "text/plain": [
       "'asljgsakgadlkn _EOL_ adsfgkaglkglknfg _EOL_ asdglnasdglkasdglk'"
      ]
     },
     "execution_count": 2,
     "metadata": {},
     "output_type": "execute_result"
    }
   ],
   "source": [
    "stra = 'asljgsakgadlkn \\n adsfgkaglkglknfg \\n asdglnasdglkasdglk'\n",
    "\n",
    "stra = stra.replace(\"\\n\",\"_EOL_\")\n",
    "\n",
    "stra"
   ]
  },
  {
   "cell_type": "code",
   "execution_count": 4,
   "metadata": {},
   "outputs": [
    {
     "data": {
      "text/plain": [
       "'1 2 3 4 5 6 7'"
      ]
     },
     "execution_count": 4,
     "metadata": {},
     "output_type": "execute_result"
    }
   ],
   "source": [
    "li = ['1','2','3','4','5','6','7']\n",
    "\n",
    "' '.join(li)"
   ]
  },
  {
   "cell_type": "code",
   "execution_count": 19,
   "metadata": {},
   "outputs": [],
   "source": [
    "import numpy as np\n",
    "\n",
    "batch_size = 3\n",
    "time_steps = 5\n",
    "dims = 4\n",
    "x = np.ones(shape=[time_steps,batch_size,dims])\n",
    "y = np.array([1,0,1]).T"
   ]
  },
  {
   "cell_type": "code",
   "execution_count": 20,
   "metadata": {},
   "outputs": [
    {
     "data": {
      "text/plain": [
       "array([[[1., 1., 1., 1.],\n",
       "        [1., 1., 1., 1.],\n",
       "        [1., 1., 1., 1.]],\n",
       "\n",
       "       [[1., 1., 1., 1.],\n",
       "        [1., 1., 1., 1.],\n",
       "        [1., 1., 1., 1.]],\n",
       "\n",
       "       [[1., 1., 1., 1.],\n",
       "        [1., 1., 1., 1.],\n",
       "        [1., 1., 1., 1.]],\n",
       "\n",
       "       [[1., 1., 1., 1.],\n",
       "        [1., 1., 1., 1.],\n",
       "        [1., 1., 1., 1.]],\n",
       "\n",
       "       [[1., 1., 1., 1.],\n",
       "        [1., 1., 1., 1.],\n",
       "        [1., 1., 1., 1.]]])"
      ]
     },
     "execution_count": 20,
     "metadata": {},
     "output_type": "execute_result"
    }
   ],
   "source": [
    "x"
   ]
  },
  {
   "cell_type": "code",
   "execution_count": 17,
   "metadata": {},
   "outputs": [
    {
     "data": {
      "text/plain": [
       "array([1, 0, 1])"
      ]
     },
     "execution_count": 17,
     "metadata": {},
     "output_type": "execute_result"
    }
   ],
   "source": [
    "\n",
    "y"
   ]
  },
  {
   "cell_type": "code",
   "execution_count": 18,
   "metadata": {},
   "outputs": [
    {
     "ename": "ValueError",
     "evalue": "operands could not be broadcast together with shapes (3,4,5) (3,) ",
     "output_type": "error",
     "traceback": [
      "\u001b[0;31m---------------------------------------------------------------------------\u001b[0m",
      "\u001b[0;31mValueError\u001b[0m                                Traceback (most recent call last)",
      "\u001b[0;32m<ipython-input-18-7a2c1caf0dad>\u001b[0m in \u001b[0;36m<module>\u001b[0;34m()\u001b[0m\n\u001b[0;32m----> 1\u001b[0;31m \u001b[0mx\u001b[0m\u001b[0;34m*\u001b[0m\u001b[0my\u001b[0m\u001b[0;34m\u001b[0m\u001b[0m\n\u001b[0m",
      "\u001b[0;31mValueError\u001b[0m: operands could not be broadcast together with shapes (3,4,5) (3,) "
     ]
    }
   ],
   "source": [
    "x*y"
   ]
  },
  {
   "cell_type": "code",
   "execution_count": null,
   "metadata": {},
   "outputs": [],
   "source": []
  }
 ],
 "metadata": {
  "kernelspec": {
   "display_name": "Python 3",
   "language": "python",
   "name": "python3"
  },
  "language_info": {
   "codemirror_mode": {
    "name": "ipython",
    "version": 3
   },
   "file_extension": ".py",
   "mimetype": "text/x-python",
   "name": "python",
   "nbconvert_exporter": "python",
   "pygments_lexer": "ipython3",
   "version": "3.6.6"
  }
 },
 "nbformat": 4,
 "nbformat_minor": 2
}
